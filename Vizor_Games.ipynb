{
 "cells": [
  {
   "cell_type": "markdown",
   "metadata": {
    "id": "zG4Y4e7KDFbE"
   },
   "source": [
    "# Теоретический блок."
   ]
  },
  {
   "cell_type": "markdown",
   "metadata": {
    "id": "UqTEJfKlDLJW"
   },
   "source": [
    "**1. Выход нового версии приложения запланирован через 2 недели. Какие метрики вы бы использовали для оценки релиза. Сколько нужно времени для принятия решения об успешном или провальном релизе?**\n",
    "\n",
    "\n",
    "\n",
    "*  Количество скачиваний: показывает, насколько успешно приложение было принято пользователем. Можно отслеживать оперативно в моменте. Но это слабый показатель, для того, чтобы делать какие-то существенные выводы\n",
    "*  Retention N-day: показывает, насколько приложение удается удерживать пользователей на определенный день. Считается обычно на 1, 7 и 30 день. Я полагаю какие-то осмысленные выводы можно делать не ранее 7 дня.\n",
    "* Время, проведенное в приложении: показывает, насколько приложение заинтересовало пользователей и насколько они проводят в нем время.\n",
    "* Конверсия: показывает, сколько пользователей выполняют целевые действия в приложении (например, совершают покупки, регистрируются и т.д.).\n",
    "\n",
    "Для принятия решения о успешности или провальности релиза необходимо время, чтобы получить достаточное количество данных. Срок зависит от конкретной метрики и ее нормы, но, как правило, для получения точных результатов рекомендуется собирать данные в течение нескольких недель или месяцев. Например, для оценки количества скачиваний может потребоваться несколько дней, а для оценки времени, проведенного в приложении, может понадобиться несколько недель. В любом случае, для принятия решения о успешности или провальности релиза необходимо иметь достаточно данных, чтобы убедиться в их статистической значимости. Я бы начинала от 1 недели.\n",
    "\n"
   ]
  },
  {
   "cell_type": "markdown",
   "metadata": {
    "id": "kE_KSEydIk_I"
   },
   "source": [
    "**2. В ходе анализа данных, вы замечаете в продукте снижение ARPU для страны AU, по одной месячной когорте. Какие ваши дальнейшие действия?**\n",
    "\n",
    "Мои дальнейшие действия могут быть следующими:\n",
    "\n",
    "* Посмотрю на динамику данного показателя для других когорт и других стран, чтобы определить локальное изменение или глобальное.\n",
    "\n",
    "* Искать факторы, которые могут быть связаны с снижением ARPU, такие как последние изменения в продукте, рекламных кампаниях, изменения ценовой политики и т.д. Для этого я буду анализировать метрики, связанные с ARPU, такие как конверсия, retention, LTV, средний чек и т.д.\n",
    "\n",
    "* Если я не могу найти причины снижения ARPU в данных, то я могу провести дополнительные исследования. Например, я могу провести опросы пользователей, чтобы выявить их мнения и предпочтения, и/или провести анализ конкурентов, чтобы выявить, какие функции или возможности отсутствуют в моем продукте.\n",
    "\n",
    "* После выявления причин снижения ARPU, я буду разрабатывать план улучшений, чтобы решить эти проблемы. Например, я могу предложить новые функции, улучшить качество продукта, изменить ценовую политику или запустить новые рекламные кампании. После этого я буду реализовывать этот план и мониторить метрики, чтобы убедиться, что мои улучшения действительно повышают ARPU.\n",
    "\n",
    "* После реализации плана улучшений, я буду продолжать мониторить метрики, связанные с ARPU, чтобы убедиться, что мои изменения действительно повышают эту метрику. Если я замечу, что ARPU продолжает снижаться, то я буду проводить дополнительные исследования и рассматривать другие варианты улучшений."
   ]
  },
  {
   "cell_type": "markdown",
   "metadata": {
    "id": "_zz8gOYzLavT"
   },
   "source": [
    "**3. Ваше приложение интегрировано с MMP. Вам необходимо сформировать дашборд в MMP для ежедневного мониторинга приложения. Какие метрики вы вынесите на этот дашборд?**\n",
    "\n",
    "1. Количество уникальных пользователей\n",
    "2. Количество активных пользователей. Можно также добавить долю от п.1\n",
    "3. Retention-1, -7, -30 дня\n",
    "4. Количество установок приложения\n",
    "5. Конверсия в покупку\n",
    "6. Среднее время пользователя в приложении (также не лишним будет в разбивке на платящих и не платяших)\n",
    "7. ARPU\n",
    "8. LTV "
   ]
  },
  {
   "cell_type": "markdown",
   "metadata": {
    "id": "QnzI_F2LMXpc"
   },
   "source": [
    "# Практический блок (SQL)."
   ]
  },
  {
   "cell_type": "markdown",
   "metadata": {
    "id": "-ttGPcR8MbcU"
   },
   "source": [
    "Данное задание я реализовала с помощью pandas, что не соответствует постановке задания. На SQL я представляю как написать запрос, но к сожалению не могу проверить, что он выдает."
   ]
  },
  {
   "cell_type": "markdown",
   "metadata": {},
   "source": [
    "Для начала перед выполнением задания прочитаем данные и посмотрим, что в них содержится"
   ]
  },
  {
   "cell_type": "code",
   "execution_count": 2,
   "metadata": {},
   "outputs": [],
   "source": [
    "import zipfile\n",
    "\n",
    "file_name = \"data.zip\"\n",
    "\n",
    "with zipfile.ZipFile(file_name, 'r') as zip_ref:\n",
    "    zip_ref.extractall()"
   ]
  },
  {
   "cell_type": "code",
   "execution_count": 3,
   "metadata": {},
   "outputs": [],
   "source": [
    "import warnings\n",
    "warnings.filterwarnings('ignore')\n",
    "\n",
    "import pandas as pd\n",
    "pd.options.display.float_format = '{:.2f}'.format\n",
    "ads_data = pd.read_csv('ads_data.csv', parse_dates=['date'], index_col='date')\n",
    "user_data = pd.read_csv('user_data.csv', parse_dates = ['install_time', 'event_time'])"
   ]
  },
  {
   "cell_type": "code",
   "execution_count": 4,
   "metadata": {
    "colab": {
     "base_uri": "https://localhost:8080/"
    },
    "id": "ci24qeiDJccV",
    "outputId": "a3ce4f89-86aa-4ec9-d7df-c48f936e2261"
   },
   "outputs": [
    {
     "name": "stdout",
     "output_type": "stream",
     "text": [
      "<class 'pandas.core.frame.DataFrame'>\n",
      "DatetimeIndex: 704814 entries, 2021-01-01 to 2021-01-31\n",
      "Data columns (total 11 columns):\n",
      " #   Column         Non-Null Count   Dtype  \n",
      "---  ------         --------------   -----  \n",
      " 0   campaign_id    704814 non-null  int64  \n",
      " 1   ad_set_id      704814 non-null  int64  \n",
      " 2   ad_id          704814 non-null  int64  \n",
      " 3   cpm            704814 non-null  float64\n",
      " 4   ctr            704814 non-null  float64\n",
      " 5   spend          704814 non-null  float64\n",
      " 6   clicks         704814 non-null  int64  \n",
      " 7   impressions    704814 non-null  int64  \n",
      " 8   breakdown_set  694614 non-null  object \n",
      " 9   breakdowns     704814 non-null  object \n",
      " 10  platform       704814 non-null  object \n",
      "dtypes: float64(3), int64(5), object(3)\n",
      "memory usage: 64.5+ MB\n"
     ]
    }
   ],
   "source": [
    "ads_data.info()"
   ]
  },
  {
   "cell_type": "code",
   "execution_count": 3,
   "metadata": {
    "colab": {
     "base_uri": "https://localhost:8080/",
     "height": 238
    },
    "id": "o2BiPkzlJXtJ",
    "outputId": "0b4a247a-2504-4517-e6ca-e2b42c5888f8"
   },
   "outputs": [
    {
     "data": {
      "text/html": [
       "<div>\n",
       "<style scoped>\n",
       "    .dataframe tbody tr th:only-of-type {\n",
       "        vertical-align: middle;\n",
       "    }\n",
       "\n",
       "    .dataframe tbody tr th {\n",
       "        vertical-align: top;\n",
       "    }\n",
       "\n",
       "    .dataframe thead th {\n",
       "        text-align: right;\n",
       "    }\n",
       "</style>\n",
       "<table border=\"1\" class=\"dataframe\">\n",
       "  <thead>\n",
       "    <tr style=\"text-align: right;\">\n",
       "      <th></th>\n",
       "      <th>campaign_id</th>\n",
       "      <th>ad_set_id</th>\n",
       "      <th>ad_id</th>\n",
       "      <th>cpm</th>\n",
       "      <th>ctr</th>\n",
       "      <th>spend</th>\n",
       "      <th>clicks</th>\n",
       "      <th>impressions</th>\n",
       "      <th>breakdown_set</th>\n",
       "      <th>breakdowns</th>\n",
       "      <th>platform</th>\n",
       "    </tr>\n",
       "    <tr>\n",
       "      <th>date</th>\n",
       "      <th></th>\n",
       "      <th></th>\n",
       "      <th></th>\n",
       "      <th></th>\n",
       "      <th></th>\n",
       "      <th></th>\n",
       "      <th></th>\n",
       "      <th></th>\n",
       "      <th></th>\n",
       "      <th></th>\n",
       "      <th></th>\n",
       "    </tr>\n",
       "  </thead>\n",
       "  <tbody>\n",
       "    <tr>\n",
       "      <th>2021-01-01</th>\n",
       "      <td>23847157133130369</td>\n",
       "      <td>23847157133120369</td>\n",
       "      <td>23847157133270369</td>\n",
       "      <td>11.59</td>\n",
       "      <td>0.00</td>\n",
       "      <td>3.93</td>\n",
       "      <td>0</td>\n",
       "      <td>339</td>\n",
       "      <td>{country}</td>\n",
       "      <td>{\"country\": \"UK\"}</td>\n",
       "      <td>ios</td>\n",
       "    </tr>\n",
       "    <tr>\n",
       "      <th>2021-01-01</th>\n",
       "      <td>23847157133170369</td>\n",
       "      <td>23847157133180369</td>\n",
       "      <td>23847157133260369</td>\n",
       "      <td>8.31</td>\n",
       "      <td>0.52</td>\n",
       "      <td>4.81</td>\n",
       "      <td>3</td>\n",
       "      <td>579</td>\n",
       "      <td>{country}</td>\n",
       "      <td>{\"country\": \"UK\"}</td>\n",
       "      <td>android</td>\n",
       "    </tr>\n",
       "    <tr>\n",
       "      <th>2021-01-01</th>\n",
       "      <td>23847157133130369</td>\n",
       "      <td>23847157133120369</td>\n",
       "      <td>23847157133250369</td>\n",
       "      <td>23.85</td>\n",
       "      <td>0.63</td>\n",
       "      <td>7.56</td>\n",
       "      <td>2</td>\n",
       "      <td>317</td>\n",
       "      <td>{country}</td>\n",
       "      <td>{\"country\": \"UK\"}</td>\n",
       "      <td>ios</td>\n",
       "    </tr>\n",
       "    <tr>\n",
       "      <th>2021-01-01</th>\n",
       "      <td>23847157133130369</td>\n",
       "      <td>23847157133120369</td>\n",
       "      <td>23847157133240369</td>\n",
       "      <td>17.60</td>\n",
       "      <td>0.37</td>\n",
       "      <td>4.70</td>\n",
       "      <td>1</td>\n",
       "      <td>267</td>\n",
       "      <td>{country}</td>\n",
       "      <td>{\"country\": \"UK\"}</td>\n",
       "      <td>ios</td>\n",
       "    </tr>\n",
       "    <tr>\n",
       "      <th>2021-01-01</th>\n",
       "      <td>23847157133130369</td>\n",
       "      <td>23847157133120369</td>\n",
       "      <td>23847157133230369</td>\n",
       "      <td>23.51</td>\n",
       "      <td>0.00</td>\n",
       "      <td>5.69</td>\n",
       "      <td>0</td>\n",
       "      <td>242</td>\n",
       "      <td>{country}</td>\n",
       "      <td>{\"country\": \"UK\"}</td>\n",
       "      <td>ios</td>\n",
       "    </tr>\n",
       "  </tbody>\n",
       "</table>\n",
       "</div>"
      ],
      "text/plain": [
       "                  campaign_id          ad_set_id              ad_id   cpm  \\\n",
       "date                                                                        \n",
       "2021-01-01  23847157133130369  23847157133120369  23847157133270369 11.59   \n",
       "2021-01-01  23847157133170369  23847157133180369  23847157133260369  8.31   \n",
       "2021-01-01  23847157133130369  23847157133120369  23847157133250369 23.85   \n",
       "2021-01-01  23847157133130369  23847157133120369  23847157133240369 17.60   \n",
       "2021-01-01  23847157133130369  23847157133120369  23847157133230369 23.51   \n",
       "\n",
       "            ctr  spend  clicks  impressions breakdown_set         breakdowns  \\\n",
       "date                                                                           \n",
       "2021-01-01 0.00   3.93       0          339     {country}  {\"country\": \"UK\"}   \n",
       "2021-01-01 0.52   4.81       3          579     {country}  {\"country\": \"UK\"}   \n",
       "2021-01-01 0.63   7.56       2          317     {country}  {\"country\": \"UK\"}   \n",
       "2021-01-01 0.37   4.70       1          267     {country}  {\"country\": \"UK\"}   \n",
       "2021-01-01 0.00   5.69       0          242     {country}  {\"country\": \"UK\"}   \n",
       "\n",
       "           platform  \n",
       "date                 \n",
       "2021-01-01      ios  \n",
       "2021-01-01  android  \n",
       "2021-01-01      ios  \n",
       "2021-01-01      ios  \n",
       "2021-01-01      ios  "
      ]
     },
     "execution_count": 3,
     "metadata": {},
     "output_type": "execute_result"
    }
   ],
   "source": [
    "ads_data.head()"
   ]
  },
  {
   "cell_type": "code",
   "execution_count": 4,
   "metadata": {
    "colab": {
     "base_uri": "https://localhost:8080/",
     "height": 238
    },
    "id": "mEH1Ob1pRhLX",
    "outputId": "ca3faa16-d1eb-452c-ae9e-a22062be7c3d"
   },
   "outputs": [
    {
     "data": {
      "text/html": [
       "<div>\n",
       "<style scoped>\n",
       "    .dataframe tbody tr th:only-of-type {\n",
       "        vertical-align: middle;\n",
       "    }\n",
       "\n",
       "    .dataframe tbody tr th {\n",
       "        vertical-align: top;\n",
       "    }\n",
       "\n",
       "    .dataframe thead th {\n",
       "        text-align: right;\n",
       "    }\n",
       "</style>\n",
       "<table border=\"1\" class=\"dataframe\">\n",
       "  <thead>\n",
       "    <tr style=\"text-align: right;\">\n",
       "      <th></th>\n",
       "      <th>campaign_id</th>\n",
       "      <th>ad_set_id</th>\n",
       "      <th>ad_id</th>\n",
       "      <th>cpm</th>\n",
       "      <th>ctr</th>\n",
       "      <th>spend</th>\n",
       "      <th>clicks</th>\n",
       "      <th>impressions</th>\n",
       "      <th>breakdown_set</th>\n",
       "      <th>breakdowns</th>\n",
       "      <th>platform</th>\n",
       "      <th>country</th>\n",
       "    </tr>\n",
       "    <tr>\n",
       "      <th>date</th>\n",
       "      <th></th>\n",
       "      <th></th>\n",
       "      <th></th>\n",
       "      <th></th>\n",
       "      <th></th>\n",
       "      <th></th>\n",
       "      <th></th>\n",
       "      <th></th>\n",
       "      <th></th>\n",
       "      <th></th>\n",
       "      <th></th>\n",
       "      <th></th>\n",
       "    </tr>\n",
       "  </thead>\n",
       "  <tbody>\n",
       "    <tr>\n",
       "      <th>2021-01-01</th>\n",
       "      <td>23847157133130369</td>\n",
       "      <td>23847157133120369</td>\n",
       "      <td>23847157133270369</td>\n",
       "      <td>11.59</td>\n",
       "      <td>0.00</td>\n",
       "      <td>3.93</td>\n",
       "      <td>0</td>\n",
       "      <td>339</td>\n",
       "      <td>{country}</td>\n",
       "      <td>{\"country\": \"UK\"}</td>\n",
       "      <td>ios</td>\n",
       "      <td>UK</td>\n",
       "    </tr>\n",
       "    <tr>\n",
       "      <th>2021-01-01</th>\n",
       "      <td>23847157133170369</td>\n",
       "      <td>23847157133180369</td>\n",
       "      <td>23847157133260369</td>\n",
       "      <td>8.31</td>\n",
       "      <td>0.52</td>\n",
       "      <td>4.81</td>\n",
       "      <td>3</td>\n",
       "      <td>579</td>\n",
       "      <td>{country}</td>\n",
       "      <td>{\"country\": \"UK\"}</td>\n",
       "      <td>android</td>\n",
       "      <td>UK</td>\n",
       "    </tr>\n",
       "    <tr>\n",
       "      <th>2021-01-01</th>\n",
       "      <td>23847157133130369</td>\n",
       "      <td>23847157133120369</td>\n",
       "      <td>23847157133250369</td>\n",
       "      <td>23.85</td>\n",
       "      <td>0.63</td>\n",
       "      <td>7.56</td>\n",
       "      <td>2</td>\n",
       "      <td>317</td>\n",
       "      <td>{country}</td>\n",
       "      <td>{\"country\": \"UK\"}</td>\n",
       "      <td>ios</td>\n",
       "      <td>UK</td>\n",
       "    </tr>\n",
       "    <tr>\n",
       "      <th>2021-01-01</th>\n",
       "      <td>23847157133130369</td>\n",
       "      <td>23847157133120369</td>\n",
       "      <td>23847157133240369</td>\n",
       "      <td>17.60</td>\n",
       "      <td>0.37</td>\n",
       "      <td>4.70</td>\n",
       "      <td>1</td>\n",
       "      <td>267</td>\n",
       "      <td>{country}</td>\n",
       "      <td>{\"country\": \"UK\"}</td>\n",
       "      <td>ios</td>\n",
       "      <td>UK</td>\n",
       "    </tr>\n",
       "    <tr>\n",
       "      <th>2021-01-01</th>\n",
       "      <td>23847157133130369</td>\n",
       "      <td>23847157133120369</td>\n",
       "      <td>23847157133230369</td>\n",
       "      <td>23.51</td>\n",
       "      <td>0.00</td>\n",
       "      <td>5.69</td>\n",
       "      <td>0</td>\n",
       "      <td>242</td>\n",
       "      <td>{country}</td>\n",
       "      <td>{\"country\": \"UK\"}</td>\n",
       "      <td>ios</td>\n",
       "      <td>UK</td>\n",
       "    </tr>\n",
       "  </tbody>\n",
       "</table>\n",
       "</div>"
      ],
      "text/plain": [
       "                  campaign_id          ad_set_id              ad_id   cpm  \\\n",
       "date                                                                        \n",
       "2021-01-01  23847157133130369  23847157133120369  23847157133270369 11.59   \n",
       "2021-01-01  23847157133170369  23847157133180369  23847157133260369  8.31   \n",
       "2021-01-01  23847157133130369  23847157133120369  23847157133250369 23.85   \n",
       "2021-01-01  23847157133130369  23847157133120369  23847157133240369 17.60   \n",
       "2021-01-01  23847157133130369  23847157133120369  23847157133230369 23.51   \n",
       "\n",
       "            ctr  spend  clicks  impressions breakdown_set         breakdowns  \\\n",
       "date                                                                           \n",
       "2021-01-01 0.00   3.93       0          339     {country}  {\"country\": \"UK\"}   \n",
       "2021-01-01 0.52   4.81       3          579     {country}  {\"country\": \"UK\"}   \n",
       "2021-01-01 0.63   7.56       2          317     {country}  {\"country\": \"UK\"}   \n",
       "2021-01-01 0.37   4.70       1          267     {country}  {\"country\": \"UK\"}   \n",
       "2021-01-01 0.00   5.69       0          242     {country}  {\"country\": \"UK\"}   \n",
       "\n",
       "           platform country  \n",
       "date                         \n",
       "2021-01-01      ios      UK  \n",
       "2021-01-01  android      UK  \n",
       "2021-01-01      ios      UK  \n",
       "2021-01-01      ios      UK  \n",
       "2021-01-01      ios      UK  "
      ]
     },
     "execution_count": 4,
     "metadata": {},
     "output_type": "execute_result"
    }
   ],
   "source": [
    "#распарсим данные по колонке breakdowns, вынесем данные по стране в колонку country\n",
    "\n",
    "import ast\n",
    "\n",
    "def extract_country(row):\n",
    "    dictionary = ast.literal_eval(row)\n",
    "    try:\n",
    "      return dictionary['country']\n",
    "    except:\n",
    "      return ''\n",
    "\n",
    "ads_data['country'] = ads_data['breakdowns'].apply(extract_country)\n",
    "ads_data.head()"
   ]
  },
  {
   "cell_type": "code",
   "execution_count": 8,
   "metadata": {
    "colab": {
     "base_uri": "https://localhost:8080/",
     "height": 357
    },
    "id": "OXIsUleNKc5y",
    "outputId": "6b530f56-138d-4440-bcc0-5ef836ecbd0c"
   },
   "outputs": [
    {
     "data": {
      "text/html": [
       "<div>\n",
       "<style scoped>\n",
       "    .dataframe tbody tr th:only-of-type {\n",
       "        vertical-align: middle;\n",
       "    }\n",
       "\n",
       "    .dataframe tbody tr th {\n",
       "        vertical-align: top;\n",
       "    }\n",
       "\n",
       "    .dataframe thead th {\n",
       "        text-align: right;\n",
       "    }\n",
       "</style>\n",
       "<table border=\"1\" class=\"dataframe\">\n",
       "  <thead>\n",
       "    <tr style=\"text-align: right;\">\n",
       "      <th></th>\n",
       "      <th>attributed_touch_time</th>\n",
       "      <th>install_time</th>\n",
       "      <th>event_time</th>\n",
       "      <th>event_name</th>\n",
       "      <th>event_revenue_usd</th>\n",
       "      <th>media_source</th>\n",
       "      <th>channel</th>\n",
       "      <th>campaign_id</th>\n",
       "      <th>adset_id</th>\n",
       "      <th>ad_id</th>\n",
       "      <th>country_code</th>\n",
       "      <th>user_id</th>\n",
       "    </tr>\n",
       "  </thead>\n",
       "  <tbody>\n",
       "    <tr>\n",
       "      <th>0</th>\n",
       "      <td>NaN</td>\n",
       "      <td>2021-01-01 00:08:10.721000+00:00</td>\n",
       "      <td>2021-01-01 00:08:10.721000+00:00</td>\n",
       "      <td>install</td>\n",
       "      <td>NaN</td>\n",
       "      <td>NaN</td>\n",
       "      <td>NaN</td>\n",
       "      <td>NaN</td>\n",
       "      <td>NaN</td>\n",
       "      <td>NaN</td>\n",
       "      <td>VN</td>\n",
       "      <td>1609459686080-7483030925743023347</td>\n",
       "    </tr>\n",
       "    <tr>\n",
       "      <th>1</th>\n",
       "      <td>NaN</td>\n",
       "      <td>2021-01-01 00:39:23.948000+00:00</td>\n",
       "      <td>2021-01-01 00:39:23.948000+00:00</td>\n",
       "      <td>install</td>\n",
       "      <td>NaN</td>\n",
       "      <td>NaN</td>\n",
       "      <td>NaN</td>\n",
       "      <td>NaN</td>\n",
       "      <td>NaN</td>\n",
       "      <td>NaN</td>\n",
       "      <td>US</td>\n",
       "      <td>1609461562630-105981105396801528</td>\n",
       "    </tr>\n",
       "    <tr>\n",
       "      <th>2</th>\n",
       "      <td>NaN</td>\n",
       "      <td>2021-01-01 00:40:36.525000+00:00</td>\n",
       "      <td>2021-01-01 00:40:36.525000+00:00</td>\n",
       "      <td>reinstall</td>\n",
       "      <td>NaN</td>\n",
       "      <td>NaN</td>\n",
       "      <td>NaN</td>\n",
       "      <td>NaN</td>\n",
       "      <td>NaN</td>\n",
       "      <td>NaN</td>\n",
       "      <td>CZ</td>\n",
       "      <td>1609461625904-7673362380866907786</td>\n",
       "    </tr>\n",
       "    <tr>\n",
       "      <th>3</th>\n",
       "      <td>NaN</td>\n",
       "      <td>2021-01-01 00:49:03.486000+00:00</td>\n",
       "      <td>2021-01-01 00:49:03.486000+00:00</td>\n",
       "      <td>reinstall</td>\n",
       "      <td>NaN</td>\n",
       "      <td>NaN</td>\n",
       "      <td>NaN</td>\n",
       "      <td>NaN</td>\n",
       "      <td>NaN</td>\n",
       "      <td>NaN</td>\n",
       "      <td>PT</td>\n",
       "      <td>1609462209340-904240965619919015</td>\n",
       "    </tr>\n",
       "    <tr>\n",
       "      <th>4</th>\n",
       "      <td>NaN</td>\n",
       "      <td>2021-01-01 00:51:53.395000+00:00</td>\n",
       "      <td>2021-01-01 00:51:53.395000+00:00</td>\n",
       "      <td>install</td>\n",
       "      <td>NaN</td>\n",
       "      <td>NaN</td>\n",
       "      <td>NaN</td>\n",
       "      <td>NaN</td>\n",
       "      <td>NaN</td>\n",
       "      <td>NaN</td>\n",
       "      <td>US</td>\n",
       "      <td>1609279214347-3174174</td>\n",
       "    </tr>\n",
       "  </tbody>\n",
       "</table>\n",
       "</div>"
      ],
      "text/plain": [
       "  attributed_touch_time                     install_time  \\\n",
       "0                   NaN 2021-01-01 00:08:10.721000+00:00   \n",
       "1                   NaN 2021-01-01 00:39:23.948000+00:00   \n",
       "2                   NaN 2021-01-01 00:40:36.525000+00:00   \n",
       "3                   NaN 2021-01-01 00:49:03.486000+00:00   \n",
       "4                   NaN 2021-01-01 00:51:53.395000+00:00   \n",
       "\n",
       "                        event_time event_name  event_revenue_usd media_source  \\\n",
       "0 2021-01-01 00:08:10.721000+00:00    install                NaN          NaN   \n",
       "1 2021-01-01 00:39:23.948000+00:00    install                NaN          NaN   \n",
       "2 2021-01-01 00:40:36.525000+00:00  reinstall                NaN          NaN   \n",
       "3 2021-01-01 00:49:03.486000+00:00  reinstall                NaN          NaN   \n",
       "4 2021-01-01 00:51:53.395000+00:00    install                NaN          NaN   \n",
       "\n",
       "  channel  campaign_id  adset_id  ad_id country_code  \\\n",
       "0     NaN          NaN       NaN    NaN           VN   \n",
       "1     NaN          NaN       NaN    NaN           US   \n",
       "2     NaN          NaN       NaN    NaN           CZ   \n",
       "3     NaN          NaN       NaN    NaN           PT   \n",
       "4     NaN          NaN       NaN    NaN           US   \n",
       "\n",
       "                             user_id  \n",
       "0  1609459686080-7483030925743023347  \n",
       "1   1609461562630-105981105396801528  \n",
       "2  1609461625904-7673362380866907786  \n",
       "3   1609462209340-904240965619919015  \n",
       "4              1609279214347-3174174  "
      ]
     },
     "execution_count": 8,
     "metadata": {},
     "output_type": "execute_result"
    }
   ],
   "source": [
    "user_data.head()"
   ]
  },
  {
   "cell_type": "code",
   "execution_count": 9,
   "metadata": {
    "colab": {
     "base_uri": "https://localhost:8080/"
    },
    "id": "rJi6cHJYekMj",
    "outputId": "8e52cec6-49c8-450c-b0c9-b1266fdbf0de"
   },
   "outputs": [
    {
     "name": "stdout",
     "output_type": "stream",
     "text": [
      "<class 'pandas.core.frame.DataFrame'>\n",
      "RangeIndex: 1645562 entries, 0 to 1645561\n",
      "Data columns (total 12 columns):\n",
      " #   Column                 Non-Null Count    Dtype              \n",
      "---  ------                 --------------    -----              \n",
      " 0   attributed_touch_time  813761 non-null   object             \n",
      " 1   install_time           1645562 non-null  datetime64[ns, UTC]\n",
      " 2   event_time             1645562 non-null  datetime64[ns, UTC]\n",
      " 3   event_name             1645562 non-null  object             \n",
      " 4   event_revenue_usd      638688 non-null   float64            \n",
      " 5   media_source           813761 non-null   object             \n",
      " 6   channel                813761 non-null   object             \n",
      " 7   campaign_id            813761 non-null   float64            \n",
      " 8   adset_id               813761 non-null   float64            \n",
      " 9   ad_id                  813761 non-null   float64            \n",
      " 10  country_code           1542969 non-null  object             \n",
      " 11  user_id                1645562 non-null  object             \n",
      "dtypes: datetime64[ns, UTC](2), float64(4), object(6)\n",
      "memory usage: 150.7+ MB\n"
     ]
    }
   ],
   "source": [
    "user_data.info()"
   ]
  },
  {
   "cell_type": "markdown",
   "metadata": {},
   "source": [
    "***Создайте скрипт-агрегацию в разрезе недельных когорт, платформы, медиаисточника, для недель*** \n",
    "\n",
    "1-7\n",
    "\n",
    "8-14\n",
    "\n",
    "15-21\n",
    "\n",
    "22-end \n",
    "\n",
    "по расчету следующих метрик: установки, доход"
   ]
  },
  {
   "cell_type": "code",
   "execution_count": 14,
   "metadata": {
    "colab": {
     "base_uri": "https://localhost:8080/",
     "height": 394
    },
    "id": "a2z64FU-p-td",
    "outputId": "bdba3ee4-15f6-46d5-fbae-bd8e3c3e1386"
   },
   "outputs": [
    {
     "data": {
      "text/html": [
       "<div>\n",
       "<style scoped>\n",
       "    .dataframe tbody tr th:only-of-type {\n",
       "        vertical-align: middle;\n",
       "    }\n",
       "\n",
       "    .dataframe tbody tr th {\n",
       "        vertical-align: top;\n",
       "    }\n",
       "\n",
       "    .dataframe thead th {\n",
       "        text-align: right;\n",
       "    }\n",
       "</style>\n",
       "<table border=\"1\" class=\"dataframe\">\n",
       "  <thead>\n",
       "    <tr style=\"text-align: right;\">\n",
       "      <th></th>\n",
       "      <th></th>\n",
       "      <th></th>\n",
       "      <th>total_revenue</th>\n",
       "      <th>instals</th>\n",
       "    </tr>\n",
       "    <tr>\n",
       "      <th>platform</th>\n",
       "      <th>media_source</th>\n",
       "      <th>event_time</th>\n",
       "      <th></th>\n",
       "      <th></th>\n",
       "    </tr>\n",
       "  </thead>\n",
       "  <tbody>\n",
       "    <tr>\n",
       "      <th rowspan=\"5\" valign=\"top\">android</th>\n",
       "      <th rowspan=\"5\" valign=\"top\">Facebook Ads</th>\n",
       "      <th>2021-01-01 00:00:00+00:00</th>\n",
       "      <td>49691.94</td>\n",
       "      <td>61123</td>\n",
       "    </tr>\n",
       "    <tr>\n",
       "      <th>2021-01-08 00:00:00+00:00</th>\n",
       "      <td>55255.76</td>\n",
       "      <td>66605</td>\n",
       "    </tr>\n",
       "    <tr>\n",
       "      <th>2021-01-15 00:00:00+00:00</th>\n",
       "      <td>34041.60</td>\n",
       "      <td>32299</td>\n",
       "    </tr>\n",
       "    <tr>\n",
       "      <th>2021-01-22 00:00:00+00:00</th>\n",
       "      <td>22247.35</td>\n",
       "      <td>17329</td>\n",
       "    </tr>\n",
       "    <tr>\n",
       "      <th>2021-01-29 00:00:00+00:00</th>\n",
       "      <td>14175.79</td>\n",
       "      <td>6981</td>\n",
       "    </tr>\n",
       "    <tr>\n",
       "      <th rowspan=\"5\" valign=\"top\">ios</th>\n",
       "      <th rowspan=\"5\" valign=\"top\">Facebook Ads</th>\n",
       "      <th>2021-01-01 00:00:00+00:00</th>\n",
       "      <td>35474.91</td>\n",
       "      <td>17211</td>\n",
       "    </tr>\n",
       "    <tr>\n",
       "      <th>2021-01-08 00:00:00+00:00</th>\n",
       "      <td>23771.45</td>\n",
       "      <td>11729</td>\n",
       "    </tr>\n",
       "    <tr>\n",
       "      <th>2021-01-15 00:00:00+00:00</th>\n",
       "      <td>23225.34</td>\n",
       "      <td>5742</td>\n",
       "    </tr>\n",
       "    <tr>\n",
       "      <th>2021-01-22 00:00:00+00:00</th>\n",
       "      <td>21864.67</td>\n",
       "      <td>4145</td>\n",
       "    </tr>\n",
       "    <tr>\n",
       "      <th>2021-01-29 00:00:00+00:00</th>\n",
       "      <td>9874.65</td>\n",
       "      <td>1888</td>\n",
       "    </tr>\n",
       "  </tbody>\n",
       "</table>\n",
       "</div>"
      ],
      "text/plain": [
       "                                                 total_revenue  instals\n",
       "platform media_source event_time                                       \n",
       "android  Facebook Ads 2021-01-01 00:00:00+00:00       49691.94    61123\n",
       "                      2021-01-08 00:00:00+00:00       55255.76    66605\n",
       "                      2021-01-15 00:00:00+00:00       34041.60    32299\n",
       "                      2021-01-22 00:00:00+00:00       22247.35    17329\n",
       "                      2021-01-29 00:00:00+00:00       14175.79     6981\n",
       "ios      Facebook Ads 2021-01-01 00:00:00+00:00       35474.91    17211\n",
       "                      2021-01-08 00:00:00+00:00       23771.45    11729\n",
       "                      2021-01-15 00:00:00+00:00       23225.34     5742\n",
       "                      2021-01-22 00:00:00+00:00       21864.67     4145\n",
       "                      2021-01-29 00:00:00+00:00        9874.65     1888"
      ]
     },
     "execution_count": 14,
     "metadata": {},
     "output_type": "execute_result"
    }
   ],
   "source": [
    "# первым шагом из таблицы ads_data достанем данные по платформе размещения рекламы в связке с ID.\n",
    "ad_id_per_platform = ads_data[['ad_id', 'platform']].drop_duplicates()\n",
    "\n",
    "# а также данные по итого потраченным деньгам в разрезе user_id\n",
    "revenue_by_user = user_data[['user_id', 'event_revenue_usd']].groupby(['user_id']).sum()\n",
    "\n",
    "# далее связываем данные из таблицы user_data с таблицей, полученной в первом шаге, чтобы добавить данные о платформе размещения\n",
    "table = pd.merge(user_data[['media_source', 'ad_id', 'user_id', 'event_time', 'event_name']], \n",
    "                 ad_id_per_platform, how='left', on = 'ad_id')\n",
    "\n",
    "# связываем полученную таблицу с данными по оплатам сводно по каждому user_id\n",
    "result = pd.merge(table[table['event_name']=='install'].reset_index(), \n",
    "         revenue_by_user, how='left', left_on = 'user_id', right_on='user_id', copy=False)\n",
    "\n",
    "\n",
    "# для группировки данных по периоду устанавливаем дату/время события как индекс\n",
    "result.set_index('event_time', inplace=True)\n",
    "result.drop('index', axis=1, inplace=True)\n",
    "\n",
    "# группируем по платформе и медиаресурсу, агрегиурем по неделям, переименовываем колонки, для более внятного отображения\n",
    "result.groupby(['platform', 'media_source']).resample('7D').agg({'event_revenue_usd':'sum', \n",
    "                                                                 'user_id' : 'count'}).rename(columns={'event_revenue_usd':'total_revenue',\n",
    "                                                                                                       'user_id' : 'instals'})"
   ]
  },
  {
   "cell_type": "markdown",
   "metadata": {
    "id": "iMZCBdOIpElI"
   },
   "source": [
    "# Практический блок (Аналитика). "
   ]
  },
  {
   "cell_type": "markdown",
   "metadata": {
    "id": "KS-WalpnpJxQ"
   },
   "source": [
    "1.\tПроведите анализ окупаемости трафика для стран (RU, IN, MX, AU)"
   ]
  },
  {
   "cell_type": "code",
   "execution_count": 20,
   "metadata": {
    "id": "o1y-GiG0qjY_"
   },
   "outputs": [],
   "source": [
    "user_data = user_data.set_index('event_time')"
   ]
  },
  {
   "cell_type": "code",
   "execution_count": 21,
   "metadata": {
    "id": "nJQ-99x_NRLh"
   },
   "outputs": [],
   "source": [
    "list_countries = ['RU', 'IN', 'MX', 'AU']"
   ]
  },
  {
   "cell_type": "code",
   "execution_count": 40,
   "metadata": {
    "colab": {
     "base_uri": "https://localhost:8080/",
     "height": 388
    },
    "id": "97UjYpZ3pPhl",
    "outputId": "17166215-9ae7-47bf-e976-5601cee5680e"
   },
   "outputs": [
    {
     "data": {
      "text/html": [
       "<div>\n",
       "<style scoped>\n",
       "    .dataframe tbody tr th:only-of-type {\n",
       "        vertical-align: middle;\n",
       "    }\n",
       "\n",
       "    .dataframe tbody tr th {\n",
       "        vertical-align: top;\n",
       "    }\n",
       "\n",
       "    .dataframe thead th {\n",
       "        text-align: right;\n",
       "    }\n",
       "</style>\n",
       "<table border=\"1\" class=\"dataframe\">\n",
       "  <thead>\n",
       "    <tr style=\"text-align: right;\">\n",
       "      <th></th>\n",
       "      <th>campaign_id</th>\n",
       "      <th>ad_set_id</th>\n",
       "      <th>ad_id</th>\n",
       "      <th>cpm</th>\n",
       "      <th>ctr</th>\n",
       "      <th>spend</th>\n",
       "      <th>clicks</th>\n",
       "      <th>impressions</th>\n",
       "      <th>breakdown_set</th>\n",
       "      <th>breakdowns</th>\n",
       "      <th>platform</th>\n",
       "      <th>country</th>\n",
       "    </tr>\n",
       "    <tr>\n",
       "      <th>date</th>\n",
       "      <th></th>\n",
       "      <th></th>\n",
       "      <th></th>\n",
       "      <th></th>\n",
       "      <th></th>\n",
       "      <th></th>\n",
       "      <th></th>\n",
       "      <th></th>\n",
       "      <th></th>\n",
       "      <th></th>\n",
       "      <th></th>\n",
       "      <th></th>\n",
       "    </tr>\n",
       "  </thead>\n",
       "  <tbody>\n",
       "    <tr>\n",
       "      <th>2021-01-01</th>\n",
       "      <td>23847157133130369</td>\n",
       "      <td>23847157133120369</td>\n",
       "      <td>23847157133270369</td>\n",
       "      <td>11.59</td>\n",
       "      <td>0.00</td>\n",
       "      <td>3.93</td>\n",
       "      <td>0</td>\n",
       "      <td>339</td>\n",
       "      <td>{country}</td>\n",
       "      <td>{\"country\": \"UK\"}</td>\n",
       "      <td>ios</td>\n",
       "      <td>UK</td>\n",
       "    </tr>\n",
       "    <tr>\n",
       "      <th>2021-01-01</th>\n",
       "      <td>23847157133170369</td>\n",
       "      <td>23847157133180369</td>\n",
       "      <td>23847157133260369</td>\n",
       "      <td>8.31</td>\n",
       "      <td>0.52</td>\n",
       "      <td>4.81</td>\n",
       "      <td>3</td>\n",
       "      <td>579</td>\n",
       "      <td>{country}</td>\n",
       "      <td>{\"country\": \"UK\"}</td>\n",
       "      <td>android</td>\n",
       "      <td>UK</td>\n",
       "    </tr>\n",
       "    <tr>\n",
       "      <th>2021-01-01</th>\n",
       "      <td>23847157133130369</td>\n",
       "      <td>23847157133120369</td>\n",
       "      <td>23847157133250369</td>\n",
       "      <td>23.85</td>\n",
       "      <td>0.63</td>\n",
       "      <td>7.56</td>\n",
       "      <td>2</td>\n",
       "      <td>317</td>\n",
       "      <td>{country}</td>\n",
       "      <td>{\"country\": \"UK\"}</td>\n",
       "      <td>ios</td>\n",
       "      <td>UK</td>\n",
       "    </tr>\n",
       "    <tr>\n",
       "      <th>2021-01-01</th>\n",
       "      <td>23847157133130369</td>\n",
       "      <td>23847157133120369</td>\n",
       "      <td>23847157133240369</td>\n",
       "      <td>17.60</td>\n",
       "      <td>0.37</td>\n",
       "      <td>4.70</td>\n",
       "      <td>1</td>\n",
       "      <td>267</td>\n",
       "      <td>{country}</td>\n",
       "      <td>{\"country\": \"UK\"}</td>\n",
       "      <td>ios</td>\n",
       "      <td>UK</td>\n",
       "    </tr>\n",
       "    <tr>\n",
       "      <th>2021-01-01</th>\n",
       "      <td>23847157133130369</td>\n",
       "      <td>23847157133120369</td>\n",
       "      <td>23847157133230369</td>\n",
       "      <td>23.51</td>\n",
       "      <td>0.00</td>\n",
       "      <td>5.69</td>\n",
       "      <td>0</td>\n",
       "      <td>242</td>\n",
       "      <td>{country}</td>\n",
       "      <td>{\"country\": \"UK\"}</td>\n",
       "      <td>ios</td>\n",
       "      <td>UK</td>\n",
       "    </tr>\n",
       "  </tbody>\n",
       "</table>\n",
       "</div>"
      ],
      "text/plain": [
       "                  campaign_id          ad_set_id              ad_id   cpm  \\\n",
       "date                                                                        \n",
       "2021-01-01  23847157133130369  23847157133120369  23847157133270369 11.59   \n",
       "2021-01-01  23847157133170369  23847157133180369  23847157133260369  8.31   \n",
       "2021-01-01  23847157133130369  23847157133120369  23847157133250369 23.85   \n",
       "2021-01-01  23847157133130369  23847157133120369  23847157133240369 17.60   \n",
       "2021-01-01  23847157133130369  23847157133120369  23847157133230369 23.51   \n",
       "\n",
       "            ctr  spend  clicks  impressions breakdown_set         breakdowns  \\\n",
       "date                                                                           \n",
       "2021-01-01 0.00   3.93       0          339     {country}  {\"country\": \"UK\"}   \n",
       "2021-01-01 0.52   4.81       3          579     {country}  {\"country\": \"UK\"}   \n",
       "2021-01-01 0.63   7.56       2          317     {country}  {\"country\": \"UK\"}   \n",
       "2021-01-01 0.37   4.70       1          267     {country}  {\"country\": \"UK\"}   \n",
       "2021-01-01 0.00   5.69       0          242     {country}  {\"country\": \"UK\"}   \n",
       "\n",
       "           platform country  \n",
       "date                         \n",
       "2021-01-01      ios      UK  \n",
       "2021-01-01  android      UK  \n",
       "2021-01-01      ios      UK  \n",
       "2021-01-01      ios      UK  \n",
       "2021-01-01      ios      UK  "
      ]
     },
     "execution_count": 40,
     "metadata": {},
     "output_type": "execute_result"
    }
   ],
   "source": [
    "ads_data.head()"
   ]
  },
  {
   "cell_type": "code",
   "execution_count": 25,
   "metadata": {
    "colab": {
     "base_uri": "https://localhost:8080/",
     "height": 455
    },
    "id": "SomtnLT5pRnK",
    "outputId": "46062a83-98d4-48ae-dad2-91901426c9c5"
   },
   "outputs": [
    {
     "data": {
      "text/html": [
       "<div>\n",
       "<style scoped>\n",
       "    .dataframe tbody tr th:only-of-type {\n",
       "        vertical-align: middle;\n",
       "    }\n",
       "\n",
       "    .dataframe tbody tr th {\n",
       "        vertical-align: top;\n",
       "    }\n",
       "\n",
       "    .dataframe thead th {\n",
       "        text-align: right;\n",
       "    }\n",
       "</style>\n",
       "<table border=\"1\" class=\"dataframe\">\n",
       "  <thead>\n",
       "    <tr style=\"text-align: right;\">\n",
       "      <th></th>\n",
       "      <th></th>\n",
       "      <th>event_revenue_usd</th>\n",
       "    </tr>\n",
       "    <tr>\n",
       "      <th>country_code</th>\n",
       "      <th>event_time</th>\n",
       "      <th></th>\n",
       "    </tr>\n",
       "  </thead>\n",
       "  <tbody>\n",
       "    <tr>\n",
       "      <th rowspan=\"5\" valign=\"top\">AD</th>\n",
       "      <th>2021-01-01 00:00:00+00:00</th>\n",
       "      <td>0.00</td>\n",
       "    </tr>\n",
       "    <tr>\n",
       "      <th>2021-01-02 00:00:00+00:00</th>\n",
       "      <td>0.00</td>\n",
       "    </tr>\n",
       "    <tr>\n",
       "      <th>2021-01-03 00:00:00+00:00</th>\n",
       "      <td>8.14</td>\n",
       "    </tr>\n",
       "    <tr>\n",
       "      <th>2021-01-04 00:00:00+00:00</th>\n",
       "      <td>23.86</td>\n",
       "    </tr>\n",
       "    <tr>\n",
       "      <th>2021-01-05 00:00:00+00:00</th>\n",
       "      <td>0.00</td>\n",
       "    </tr>\n",
       "    <tr>\n",
       "      <th>...</th>\n",
       "      <th>...</th>\n",
       "      <td>...</td>\n",
       "    </tr>\n",
       "    <tr>\n",
       "      <th rowspan=\"5\" valign=\"top\">ZW</th>\n",
       "      <th>2021-02-27 00:00:00+00:00</th>\n",
       "      <td>0.00</td>\n",
       "    </tr>\n",
       "    <tr>\n",
       "      <th>2021-02-28 00:00:00+00:00</th>\n",
       "      <td>0.00</td>\n",
       "    </tr>\n",
       "    <tr>\n",
       "      <th>2021-03-01 00:00:00+00:00</th>\n",
       "      <td>0.00</td>\n",
       "    </tr>\n",
       "    <tr>\n",
       "      <th>2021-03-02 00:00:00+00:00</th>\n",
       "      <td>0.00</td>\n",
       "    </tr>\n",
       "    <tr>\n",
       "      <th>2021-03-03 00:00:00+00:00</th>\n",
       "      <td>0.00</td>\n",
       "    </tr>\n",
       "  </tbody>\n",
       "</table>\n",
       "<p>12988 rows × 1 columns</p>\n",
       "</div>"
      ],
      "text/plain": [
       "                                        event_revenue_usd\n",
       "country_code event_time                                  \n",
       "AD           2021-01-01 00:00:00+00:00               0.00\n",
       "             2021-01-02 00:00:00+00:00               0.00\n",
       "             2021-01-03 00:00:00+00:00               8.14\n",
       "             2021-01-04 00:00:00+00:00              23.86\n",
       "             2021-01-05 00:00:00+00:00               0.00\n",
       "...                                                   ...\n",
       "ZW           2021-02-27 00:00:00+00:00               0.00\n",
       "             2021-02-28 00:00:00+00:00               0.00\n",
       "             2021-03-01 00:00:00+00:00               0.00\n",
       "             2021-03-02 00:00:00+00:00               0.00\n",
       "             2021-03-03 00:00:00+00:00               0.00\n",
       "\n",
       "[12988 rows x 1 columns]"
      ]
     },
     "execution_count": 25,
     "metadata": {},
     "output_type": "execute_result"
    }
   ],
   "source": [
    "# первым делом подготовим необходимые данные.\n",
    "# из таблицы user_data выделим только необходимые данные по стране и сумме полученного дохода. Просуммируем данные по дням. \n",
    "revenue_by_day = user_data[['country_code', 'event_revenue_usd']].groupby('country_code').resample('D').sum()\n",
    "revenue_by_day"
   ]
  },
  {
   "cell_type": "code",
   "execution_count": 48,
   "metadata": {
    "id": "PWcC0VpDRovY"
   },
   "outputs": [
    {
     "data": {
      "text/html": [
       "<div>\n",
       "<style scoped>\n",
       "    .dataframe tbody tr th:only-of-type {\n",
       "        vertical-align: middle;\n",
       "    }\n",
       "\n",
       "    .dataframe tbody tr th {\n",
       "        vertical-align: top;\n",
       "    }\n",
       "\n",
       "    .dataframe thead th {\n",
       "        text-align: right;\n",
       "    }\n",
       "</style>\n",
       "<table border=\"1\" class=\"dataframe\">\n",
       "  <thead>\n",
       "    <tr style=\"text-align: right;\">\n",
       "      <th></th>\n",
       "      <th>spend</th>\n",
       "    </tr>\n",
       "    <tr>\n",
       "      <th>country</th>\n",
       "      <th></th>\n",
       "    </tr>\n",
       "  </thead>\n",
       "  <tbody>\n",
       "    <tr>\n",
       "      <th></th>\n",
       "      <td>3096233.19</td>\n",
       "    </tr>\n",
       "    <tr>\n",
       "      <th>AD</th>\n",
       "      <td>54.71</td>\n",
       "    </tr>\n",
       "    <tr>\n",
       "      <th>AE</th>\n",
       "      <td>9175.54</td>\n",
       "    </tr>\n",
       "    <tr>\n",
       "      <th>AF</th>\n",
       "      <td>84.79</td>\n",
       "    </tr>\n",
       "    <tr>\n",
       "      <th>AG</th>\n",
       "      <td>169.55</td>\n",
       "    </tr>\n",
       "    <tr>\n",
       "      <th>...</th>\n",
       "      <td>...</td>\n",
       "    </tr>\n",
       "    <tr>\n",
       "      <th>YT</th>\n",
       "      <td>36.25</td>\n",
       "    </tr>\n",
       "    <tr>\n",
       "      <th>ZA</th>\n",
       "      <td>23150.83</td>\n",
       "    </tr>\n",
       "    <tr>\n",
       "      <th>ZM</th>\n",
       "      <td>264.77</td>\n",
       "    </tr>\n",
       "    <tr>\n",
       "      <th>ZW</th>\n",
       "      <td>187.45</td>\n",
       "    </tr>\n",
       "    <tr>\n",
       "      <th>unknown</th>\n",
       "      <td>25.21</td>\n",
       "    </tr>\n",
       "  </tbody>\n",
       "</table>\n",
       "<p>228 rows × 1 columns</p>\n",
       "</div>"
      ],
      "text/plain": [
       "             spend\n",
       "country           \n",
       "        3096233.19\n",
       "AD           54.71\n",
       "AE         9175.54\n",
       "AF           84.79\n",
       "AG          169.55\n",
       "...            ...\n",
       "YT           36.25\n",
       "ZA        23150.83\n",
       "ZM          264.77\n",
       "ZW          187.45\n",
       "unknown      25.21\n",
       "\n",
       "[228 rows x 1 columns]"
      ]
     },
     "execution_count": 48,
     "metadata": {},
     "output_type": "execute_result"
    }
   ],
   "source": [
    "# из таблицы ads_data по добавленной колонке country группировкой с суммированием получаем информацию о сумме \n",
    "# потраченных средств на размещение рекламы в данной стране.\n",
    "spend_per_coutry = ads_data[['country', 'spend']].groupby('country').sum()\n",
    "spend_per_coutry"
   ]
  },
  {
   "cell_type": "code",
   "execution_count": 49,
   "metadata": {
    "id": "gq3YuKUqun6F"
   },
   "outputs": [],
   "source": [
    "import matplotlib.pyplot as plt\n",
    "\n",
    "def plot_per_country(country_code):\n",
    "\n",
    "  # Calculate the cumulative sum of event revenue\n",
    "    cumulative_revenue = revenue_by_day.loc[country_code].cumsum()\n",
    "\n",
    "  # Create a new figure and axis\n",
    "    fig, ax = plt.subplots()\n",
    "\n",
    "\n",
    "  # Plot the cumulative sum of event revenue\n",
    "    ax.plot(cumulative_revenue)\n",
    "\n",
    "  # Add a horizontal line for the given value\n",
    "    ax.axhline(y=spend_per_coutry.loc[country_code].spend, color='r', linestyle='--')\n",
    "\n",
    "  # Set the plot title and axes labels\n",
    "    ax.set_title(f'Cumulative Event Revenue (Country Code: {country_code})')\n",
    "    ax.set_xlabel('Event Time')\n",
    "    ax.set_ylabel('Cumulative Event Revenue (USD)')\n",
    "\n",
    "  # Show the plot\n",
    "#     print(f'')\n",
    "    plt.show()\n"
   ]
  },
  {
   "cell_type": "code",
   "execution_count": 50,
   "metadata": {
    "colab": {
     "base_uri": "https://localhost:8080/",
     "height": 1000
    },
    "id": "tErK3rYqu03u",
    "outputId": "b5403273-f98b-426f-cb3c-e660b98997b3",
    "scrolled": false
   },
   "outputs": [
    {
     "data": {
      "image/png": "[encoded data removed]",
      "text/plain": [
       "<Figure size 640x480 with 1 Axes>"
      ]
     },
     "metadata": {},
     "output_type": "display_data"
    },
    {
     "data": {
      "image/png": "[encoded data removed]",
      "text/plain": [
       "<Figure size 640x480 with 1 Axes>"
      ]
     },
     "metadata": {},
     "output_type": "display_data"
    },
    {
     "data": {
      "image/png": "[encoded data removed]",
      "text/plain": [
       "<Figure size 640x480 with 1 Axes>"
      ]
     },
     "metadata": {},
     "output_type": "display_data"
    },
    {
     "data": {
      "image/png": "[encoded data removed]",
      "text/plain": [
       "<Figure size 640x480 with 1 Axes>"
      ]
     },
     "metadata": {},
     "output_type": "display_data"
    }
   ],
   "source": [
    "# визуально все чуть быстрее понятно, поэтому нарисуем графики для каждой страны в списке, \n",
    "# с накопительной суммой дохода по дням (синяя линия) и суммой потраченных средств на рекламу (красная линия)\n",
    "\n",
    "for country in list_countries:\n",
    "  plot_per_country(country)"
   ]
  },
  {
   "cell_type": "markdown",
   "metadata": {},
   "source": [
    "Как видим, только по 2м странам из выборки (RU, IN) сумма дохода превысила сумму потраченных средств. Посмотрим детальнее."
   ]
  },
  {
   "cell_type": "code",
   "execution_count": 272,
   "metadata": {},
   "outputs": [],
   "source": [
    "def country_analysis(country_code):\n",
    "    cumulative_revenue = revenue_by_day.loc[country_code].cumsum()\n",
    "    spend = spend_per_coutry.loc[country_code].spend\n",
    "    revenue = cumulative_revenue[cumulative_revenue['event_revenue_usd']>=spend].iloc[0].event_revenue_usd\n",
    "    date = cumulative_revenue[cumulative_revenue['event_revenue_usd']>=spend].iloc[0].name.strftime('%d.%m.%Y')\n",
    "    print('Итого расходы на кампанию по стране {} составляют {:.2f}$'.format(country_code, spend))\n",
    "    print('Итого доход от привлеченных юзеров по стране {} {:.2f}$'.format(country_code, revenue))\n",
    "    print('При потраченной сумме средств в размере {:.2f}$ окупаемость наступает {}'.format(revenue, date))"
   ]
  },
  {
   "cell_type": "markdown",
   "metadata": {},
   "source": [
    "1. RU"
   ]
  },
  {
   "cell_type": "code",
   "execution_count": 273,
   "metadata": {},
   "outputs": [
    {
     "name": "stdout",
     "output_type": "stream",
     "text": [
      "Итого расходы на кампанию по стране RU составляют 52203.41$\n",
      "Итого доход от привлеченных юзеров по стране RU 52209.02$\n",
      "При потраченной сумме средств в размере 52209.02$ окупаемость наступает 04.03.2021\n"
     ]
    }
   ],
   "source": [
    "country_analysis('RU')"
   ]
  },
  {
   "cell_type": "markdown",
   "metadata": {},
   "source": [
    "2. IN"
   ]
  },
  {
   "cell_type": "code",
   "execution_count": 274,
   "metadata": {},
   "outputs": [
    {
     "name": "stdout",
     "output_type": "stream",
     "text": [
      "Итого расходы на кампанию по стране IN составляют 12024.00$\n",
      "Итого доход от привлеченных юзеров по стране IN 12204.19$\n",
      "При потраченной сумме средств в размере 12204.19$ окупаемость наступает 11.03.2021\n"
     ]
    }
   ],
   "source": [
    "country_analysis('IN')"
   ]
  },
  {
   "cell_type": "markdown",
   "metadata": {},
   "source": [
    "3. MX"
   ]
  },
  {
   "cell_type": "markdown",
   "metadata": {},
   "source": [
    "за анализируемый период, расходы на рекламу по данной стране не окупились. Необходимо построить прогноз, чтобы оценить к какой дате накопительный доход будет превышать расходы на рекламу, при аналогичной динамике."
   ]
  },
  {
   "cell_type": "code",
   "execution_count": 140,
   "metadata": {},
   "outputs": [],
   "source": [
    "import statsmodels.api as sm"
   ]
  },
  {
   "cell_type": "code",
   "execution_count": 269,
   "metadata": {},
   "outputs": [],
   "source": [
    "def predict_analysis(country_code, predict_days=100):\n",
    "    cumulative_revenue = revenue_by_day.loc[country_code]\n",
    "    total_spend = spend_per_coutry.loc[country_code].spend\n",
    "\n",
    "    model = sm.tsa.ARIMA(cumulative_revenue, order=(1, 0, 0))\n",
    "    results = model.fit()\n",
    "    forecast = results.predict(start=cumulative_revenue.index[-1], \n",
    "                               end=cumulative_revenue.index[-1] + pd.DateOffset(days=predict_days))\n",
    "    predict_sum = pd.concat([cumulative_revenue,\n",
    "                         pd.DataFrame(forecast).rename(columns={'predicted_mean':'event_revenue_usd'})]).cumsum()\n",
    "    date = predict_sum.index[predict_sum['event_revenue_usd'] > total_spend]\n",
    "    if len(date)!=0:\n",
    "        print('Прогнозная дата окупаемости {}. Прогнозный уровень накопленного дохода на эту дату {:.2f}$ при полных затратах по стране {:.2f}$'.format(date[0].strftime('%d.%m.%Y'), \n",
    "                                                                                                                  predict_sum.loc[date[0]].event_revenue_usd,\n",
    "                                                                                                                  total_spend))\n",
    "    else:\n",
    "        print('Прогнозная дата окупаемости в периоде предсказания отсутствует. Размер накопленного дохода на конец прогноза {:.2f}$, при полных затратах по стране {:.2f}$'.format(predict_sum.event_revenue_usd[-1], total_spend))"
   ]
  },
  {
   "cell_type": "code",
   "execution_count": 270,
   "metadata": {},
   "outputs": [
    {
     "name": "stdout",
     "output_type": "stream",
     "text": [
      "Прогнозная дата окупаемости 29.08.2021. Прогнозный уровень накопленного дохода на эту дату 24955.66$ при полных затратах по стране 24891.97$\n"
     ]
    }
   ],
   "source": [
    "predict_analysis('MX', 200)"
   ]
  },
  {
   "cell_type": "markdown",
   "metadata": {},
   "source": [
    "Как мы видим по данным выше, окупаемость вложений в рекламу для страны MX по текущим данным составляет больше полугода, что слишком большой срок. Я бы не рекомендовала развивать данный канал размещения, т.к. он крайне неэффективный."
   ]
  },
  {
   "cell_type": "markdown",
   "metadata": {},
   "source": [
    "4. AU"
   ]
  },
  {
   "cell_type": "code",
   "execution_count": 271,
   "metadata": {},
   "outputs": [
    {
     "name": "stdout",
     "output_type": "stream",
     "text": [
      "Прогнозная дата окупаемости 06.04.2021. Прогнозный уровень накопленного дохода на эту дату 103543.90$ при полных затратах по стране 102771.11$\n"
     ]
    }
   ],
   "source": [
    "predict_analysis('AU', 100)"
   ]
  },
  {
   "cell_type": "markdown",
   "metadata": {},
   "source": [
    "По стране AU окупаемость наступает примерно через месяц, после конца накопленной статистики, что несколько лучше предыдущего примера, но также не очень хороший результат. "
   ]
  }
 ],
 "metadata": {
  "colab": {
   "provenance": []
  },
  "kernelspec": {
   "display_name": "Python 3 (ipykernel)",
   "language": "python",
   "name": "python3"
  },
  "language_info": {
   "codemirror_mode": {
    "name": "ipython",
    "version": 3
   },
   "file_extension": ".py",
   "mimetype": "text/x-python",
   "name": "python",
   "nbconvert_exporter": "python",
   "pygments_lexer": "ipython3",
   "version": "3.9.15"
  }
 },
 "nbformat": 4,
 "nbformat_minor": 1
}
